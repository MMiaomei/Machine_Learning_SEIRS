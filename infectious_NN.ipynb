{
 "cells": [
  {
   "cell_type": "markdown",
   "metadata": {},
   "source": [
    "# Creating a simple neural network in TensorFlow/Keras"
   ]
  },
  {
   "cell_type": "code",
   "execution_count": null,
   "metadata": {},
   "outputs": [],
   "source": [
    "from tensorflow import keras as K\n",
    "import numpy as np\n",
    "import matplotlib.pyplot as plt\n",
    "import scipy.io as sio\n",
    "from scipy.io import loadmat"
   ]
  },
  {
   "cell_type": "markdown",
   "metadata": {},
   "source": [
    "### Function to create a Keras sequential model"
   ]
  },
  {
   "cell_type": "code",
   "execution_count": null,
   "metadata": {},
   "outputs": [],
   "source": [
    "def getModel(nNodes, act_fn):\n",
    "    \n",
    "    model = K.Sequential()\n",
    "    \n",
    "    model.add( K.layers.Dense( nNodes[1], activation = act_fn[1], input_shape=(nNodes[0],) ) )\n",
    "    \n",
    "    for iLayer in range(2, len(nNodes)):\n",
    "        \n",
    "        model.add( K.layers.Dense( nNodes[iLayer], activation=act_fn[iLayer] ) )\n",
    "        \n",
    "    model.compile( optimizer = K.optimizers.Adam(0.001), loss = 'mse' )\n",
    "    \n",
    "    return model"
   ]
  },
  {
   "cell_type": "markdown",
   "metadata": {},
   "source": [
    "### Function to get training and validation data from raw data"
   ]
  },
  {
   "cell_type": "code",
   "execution_count": null,
   "metadata": {},
   "outputs": [],
   "source": [
    "def getShuffledData( inputs, outputs, train_fraction=0.8 ):\n",
    "    \n",
    "    nData = inputs.shape[0]\n",
    "    \n",
    "    if len(inputs.shape)==2:\n",
    "        nInputs = inputs.shape[1]\n",
    "    else:\n",
    "        nInputs = 1\n",
    "    \n",
    "    if len(outputs.shape)==2:\n",
    "        nOutputs = outputs.shape[1]\n",
    "    else:\n",
    "        nOutputs = 1\n",
    "    \n",
    "    indices = np.arange(nData).astype(int)\n",
    "    np.random.shuffle(indices)\n",
    "    \n",
    "    nTrain = int(nData*train_fraction)\n",
    "    nValid = nData - nTrain\n",
    "    \n",
    "    x_train = inputs[indices[:nTrain]].reshape((nTrain, nInputs))\n",
    "    x_valid = inputs[indices[nTrain:]].reshape((nValid, nInputs))\n",
    "    y_train = outputs[indices[:nTrain]].reshape((nTrain, nOutputs))\n",
    "    y_valid = outputs[indices[nTrain:]].reshape((nValid, nOutputs))\n",
    "    \n",
    "    return x_train, y_train, x_valid, y_valid"
   ]
  },
  {
   "cell_type": "markdown",
   "metadata": {},
   "source": [
    "### NN for Infectious Model"
   ]
  },
  {
   "cell_type": "code",
   "execution_count": null,
   "metadata": {},
   "outputs": [],
   "source": [
    "data   = loadmat('Infectious_data.mat')\n",
    "states = data['X']\n",
    "time   = data['T']\n",
    "\n",
    "inputs   = states[1:len(states)-1,:]\n",
    "outputs  = states[2:len(states),:]\n",
    "\n",
    "model  = getModel([7,10,7], [None,'linear','linear'])\n",
    "\n",
    "xt, yt, xv, yv = getShuffledData(inputs, outputs)\n",
    "\n",
    "model.fit( xt, yt, epochs=4000, batch_size=20, validation_data=(xv, yv), verbose=0)"
   ]
  },
  {
   "cell_type": "code",
   "execution_count": null,
   "metadata": {},
   "outputs": [],
   "source": [
    "outputs_pred = model.predict( inputs )\n",
    "\n",
    "sio.savemat('prediction.mat', mdict={'prediction': outputs_pred, 't_pred': time[1:len(states)-1,:]})\n",
    "\n",
    "%matplotlib notebook\n",
    "plt.plot(time[1:len(states)-1,:], outputs_pred, '-k')\n",
    "plt.plot(time, states, '-.r')\n",
    "plt.legend()\n",
    "plt.show()"
   ]
  },
  {
   "cell_type": "markdown",
   "metadata": {},
   "source": [
    "# Autoencoders"
   ]
  },
  {
   "cell_type": "code",
   "execution_count": null,
   "metadata": {},
   "outputs": [],
   "source": [
    "class Autoencoder:\n",
    "    \n",
    "    def __init__(self, nNodes_encoder, nNodes_decoder, act_fn_encoder, act_fn_decoder):\n",
    "        \n",
    "        if nNodes_encoder[-1]!=nNodes_decoder[0]:\n",
    "            print(\"Error: Code dimensions in encoder and decoder must agree\")\n",
    "            return\n",
    "        \n",
    "        if nNodes_encoder[0]!=nNodes_decoder[-1]:\n",
    "            print(\"Error: Source/reconstruction dimensions in encoder and decoder must agree\")\n",
    "            return\n",
    "        \n",
    "        self.nNodes_encoder = nNodes_encoder\n",
    "        self.nNodes_decoder = nNodes_decoder\n",
    "        self.act_fn_encoder = act_fn_encoder\n",
    "        self.act_fn_decoder = act_fn_decoder\n",
    "        \n",
    "        self.nNodes_autoencoder = []\n",
    "        self.nNodes_autoencoder.extend(self.nNodes_encoder)\n",
    "        self.nNodes_autoencoder.extend(self.nNodes_decoder[1:])\n",
    "        \n",
    "        self.act_fn_autoencoder = []\n",
    "        self.act_fn_autoencoder.extend(self.act_fn_encoder)\n",
    "        self.act_fn_autoencoder.extend(self.act_fn_decoder[1:])\n",
    "        \n",
    "        self.autoencoder = getModel(self.nNodes_autoencoder, self.act_fn_autoencoder)\n",
    "        self.encoder     = getModel(self.nNodes_encoder, self.act_fn_encoder)\n",
    "        self.decoder     = getModel(self.nNodes_decoder, self.act_fn_decoder)\n",
    "        \n",
    "    def refresh(self):\n",
    "        \n",
    "        iAutoencoderLayer = 0\n",
    "        \n",
    "        for iEncoderLayer in range(0, len(self.nNodes_encoder)-1):\n",
    "            self.encoder.layers[iEncoderLayer].set_weights(self.autoencoder.layers[iAutoencoderLayer].get_weights())\n",
    "            iAutoencoderLayer += 1\n",
    "        \n",
    "        for iDecoderLayer in range(0, len(self.nNodes_decoder)-1):\n",
    "            self.decoder.layers[iDecoderLayer].set_weights(self.autoencoder.layers[iAutoencoderLayer].get_weights())\n",
    "            iAutoencoderLayer += 1"
   ]
  },
  {
   "cell_type": "markdown",
   "metadata": {},
   "source": [
    "### Example: Family of Gaussians"
   ]
  },
  {
   "cell_type": "code",
   "execution_count": null,
   "metadata": {},
   "outputs": [],
   "source": [
    "x = np.linspace(0.,1.,257)\n",
    "data = np.zeros((20,257))\n",
    "\n",
    "for iData in range(20):\n",
    "    data[iData] = np.exp(-(x-0.025*iData)**2 * 25)\n",
    "\n",
    "%matplotlib notebook\n",
    "plt.plot(x, data.T, '-k')\n",
    "plt.show()"
   ]
  },
  {
   "cell_type": "code",
   "execution_count": null,
   "metadata": {},
   "outputs": [],
   "source": [
    "autoencoder = Autoencoder([257, 65, 17, 3],\n",
    "                          [3, 33, 129, 257],\n",
    "                          [None,'sigmoid','sigmoid','linear'], \n",
    "                          [None,'sigmoid','sigmoid','linear'])\n",
    "\n",
    "xt, yt, xv, yv = getShuffledData(data, data)\n",
    "\n",
    "autoencoder.autoencoder.fit(xt, yt, epochs=4000, batch_size=100, validation_data=(xv, yv), verbose=0)\n",
    "autoencoder.refresh()"
   ]
  },
  {
   "cell_type": "code",
   "execution_count": null,
   "metadata": {},
   "outputs": [],
   "source": [
    "direct_reconstruction = autoencoder.autoencoder.predict(xt)\n",
    "\n",
    "code = autoencoder.encoder.predict(xt)\n",
    "indirect_reconstruction = autoencoder.decoder.predict(code)\n",
    "\n",
    "%matplotlib notebook\n",
    "plt.plot(x, direct_reconstruction.T, '-k')\n",
    "plt.plot(x[::8], xt[:,::8].T, '.r')\n",
    "plt.title(\"Reconstruction for training dataset\")\n",
    "plt.show()"
   ]
  },
  {
   "cell_type": "code",
   "execution_count": null,
   "metadata": {},
   "outputs": [],
   "source": [
    "direct_reconstruction = autoencoder.autoencoder.predict(xv)\n",
    "\n",
    "code = autoencoder.encoder.predict(xv)\n",
    "indirect_reconstruction = autoencoder.decoder.predict(code)\n",
    "\n",
    "%matplotlib notebook\n",
    "plt.plot(x, direct_reconstruction.T, '-k')\n",
    "plt.plot(x[::8], xv[:,::8].T, '.r')\n",
    "plt.title(\"Reconstruction for validation dataset\")\n",
    "plt.show()"
   ]
  },
  {
   "cell_type": "code",
   "execution_count": null,
   "metadata": {},
   "outputs": [],
   "source": []
  }
 ],
 "metadata": {
  "kernelspec": {
   "display_name": "Python 3",
   "language": "python",
   "name": "python3"
  },
  "language_info": {
   "codemirror_mode": {
    "name": "ipython",
    "version": 3
   },
   "file_extension": ".py",
   "mimetype": "text/x-python",
   "name": "python",
   "nbconvert_exporter": "python",
   "pygments_lexer": "ipython3",
   "version": "3.7.4"
  }
 },
 "nbformat": 4,
 "nbformat_minor": 2
}
